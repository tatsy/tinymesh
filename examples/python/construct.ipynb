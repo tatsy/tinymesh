{
 "cells": [
  {
   "cell_type": "markdown",
   "id": "cc361564-e67c-422f-89a9-2f572bc242ce",
   "metadata": {},
   "source": [
    "# Construct Mesh"
   ]
  },
  {
   "cell_type": "code",
   "execution_count": 1,
   "id": "7338fd2d-53f1-414a-99b2-6431529acd0c",
   "metadata": {},
   "outputs": [
    {
     "ename": "ImportError",
     "evalue": "dlopen(/Users/tatsuya/Library/Caches/pypoetry/virtualenvs/tinymesh-ZeVR4blE-py3.9/lib/python3.9/site-packages/open3d/cpu/pybind.cpython-39-darwin.so, 0x0002): symbol not found in flat namespace '_quadmath_snprintf'",
     "output_type": "error",
     "traceback": [
      "\u001b[0;31m---------------------------------------------------------------------------\u001b[0m",
      "\u001b[0;31mImportError\u001b[0m                               Traceback (most recent call last)",
      "Cell \u001b[0;32mIn[1], line 3\u001b[0m\n\u001b[1;32m      1\u001b[0m \u001b[39mimport\u001b[39;00m \u001b[39mos\u001b[39;00m\n\u001b[1;32m      2\u001b[0m \u001b[39mimport\u001b[39;00m \u001b[39mnumpy\u001b[39;00m \u001b[39mas\u001b[39;00m \u001b[39mnp\u001b[39;00m\n\u001b[0;32m----> 3\u001b[0m \u001b[39mimport\u001b[39;00m \u001b[39mopen3d\u001b[39;00m \u001b[39mas\u001b[39;00m \u001b[39mo3d\u001b[39;00m\n\u001b[1;32m      4\u001b[0m \u001b[39mfrom\u001b[39;00m \u001b[39mIPython\u001b[39;00m\u001b[39m.\u001b[39;00m\u001b[39mdisplay\u001b[39;00m \u001b[39mimport\u001b[39;00m display, Markdown\n",
      "File \u001b[0;32m~/Library/Caches/pypoetry/virtualenvs/tinymesh-ZeVR4blE-py3.9/lib/python3.9/site-packages/open3d/__init__.py:97\u001b[0m\n\u001b[1;32m     91\u001b[0m         warnings\u001b[39m.\u001b[39mwarn(\n\u001b[1;32m     92\u001b[0m             \u001b[39m\"\u001b[39m\u001b[39mOpen3D was built with CUDA support, but Open3D CUDA Python \u001b[39m\u001b[39m\"\u001b[39m\n\u001b[1;32m     93\u001b[0m             \u001b[39m\"\u001b[39m\u001b[39mbinding library not found! Falling back to the CPU Python \u001b[39m\u001b[39m\"\u001b[39m\n\u001b[1;32m     94\u001b[0m             \u001b[39m\"\u001b[39m\u001b[39mbinding library.\u001b[39m\u001b[39m\"\u001b[39m, \u001b[39mImportWarning\u001b[39;00m)\n\u001b[1;32m     96\u001b[0m \u001b[39mif\u001b[39;00m __DEVICE_API__ \u001b[39m==\u001b[39m \u001b[39m'\u001b[39m\u001b[39mcpu\u001b[39m\u001b[39m'\u001b[39m:\n\u001b[0;32m---> 97\u001b[0m     \u001b[39mfrom\u001b[39;00m \u001b[39mopen3d\u001b[39;00m\u001b[39m.\u001b[39;00m\u001b[39mcpu\u001b[39;00m\u001b[39m.\u001b[39;00m\u001b[39mpybind\u001b[39;00m \u001b[39mimport\u001b[39;00m (camera, data, geometry, io, pipelines,\n\u001b[1;32m     98\u001b[0m                                    utility, t)\n\u001b[1;32m     99\u001b[0m     \u001b[39mfrom\u001b[39;00m \u001b[39mopen3d\u001b[39;00m\u001b[39m.\u001b[39;00m\u001b[39mcpu\u001b[39;00m \u001b[39mimport\u001b[39;00m pybind\n\u001b[1;32m    101\u001b[0m \u001b[39mimport\u001b[39;00m \u001b[39mopen3d\u001b[39;00m\u001b[39m.\u001b[39;00m\u001b[39mcore\u001b[39;00m\n",
      "\u001b[0;31mImportError\u001b[0m: dlopen(/Users/tatsuya/Library/Caches/pypoetry/virtualenvs/tinymesh-ZeVR4blE-py3.9/lib/python3.9/site-packages/open3d/cpu/pybind.cpython-39-darwin.so, 0x0002): symbol not found in flat namespace '_quadmath_snprintf'"
     ]
    }
   ],
   "source": [
    "import os\n",
    "import numpy as np\n",
    "import open3d as o3d\n",
    "from IPython.display import display, Markdown"
   ]
  },
  {
   "cell_type": "code",
   "execution_count": null,
   "id": "27676a06-71fb-4604-90a8-89bb9dc1c2ff",
   "metadata": {},
   "outputs": [],
   "source": [
    "from tinymesh import Mesh\n",
    "from viewer import Viewer"
   ]
  },
  {
   "cell_type": "markdown",
   "id": "2078dd06-b275-4882-8a2f-2c8efb7c09be",
   "metadata": {},
   "source": [
    "## Load .PLY mesh with \"Open3D\""
   ]
  },
  {
   "cell_type": "code",
   "execution_count": null,
   "id": "a861c61e-20e2-4352-bef6-52b1e5ddd1b8",
   "metadata": {},
   "outputs": [],
   "source": [
    "models_dir = \"../../data/models/\"\n",
    "filename = os.path.join(models_dir, \"bunny.ply\")\n",
    "assert os.path.exists(filename), \"file does not exist: %s\" % filename"
   ]
  },
  {
   "cell_type": "code",
   "execution_count": null,
   "id": "bd14246c-021e-4ca2-80fd-6f9223faea82",
   "metadata": {},
   "outputs": [],
   "source": [
    "ply = o3d.io.read_triangle_mesh(filename)\n",
    "verts = np.asarray(ply.vertices, dtype=\"float32\")\n",
    "faces = np.asarray(ply.triangles, dtype=\"uint32\")\n",
    "display(Markdown(\"**verts:** {:d}, **faces:** {:d}\".format(len(verts), len(faces))))"
   ]
  },
  {
   "cell_type": "code",
   "execution_count": null,
   "id": "c536b1cd-f0a3-416f-9955-59f8de93dd3a",
   "metadata": {},
   "outputs": [],
   "source": [
    "viewer = Viewer(800, 600)\n",
    "viewer.lookat(2, 3, 4, 0, 0, 0, 0, 1, 0)\n",
    "viewer.perspective(45, viewer.aspect, 1, 100)\n",
    "viewer.visualization(verts, faces)"
   ]
  },
  {
   "cell_type": "markdown",
   "id": "c6004644-4695-437d-983f-c53cb11f0002",
   "metadata": {},
   "source": [
    "## Construct mesh with \"tinymesh\""
   ]
  },
  {
   "cell_type": "code",
   "execution_count": null,
   "id": "6b6eedd1-6eb3-4ed2-b506-6a36efcaa172",
   "metadata": {},
   "outputs": [],
   "source": [
    "mesh = Mesh(verts, faces.reshape(-1))  # tinymesh uses flatten face indices\n",
    "verts = mesh.get_vertices()\n",
    "faces = mesh.get_vertex_indices()"
   ]
  },
  {
   "cell_type": "code",
   "execution_count": null,
   "id": "8624a621-19d4-4c9c-a9fc-f5f495f824e0",
   "metadata": {},
   "outputs": [],
   "source": [
    "verts = np.asarray(verts, dtype=\"float32\")\n",
    "faces = np.asarray(faces, dtype=\"uint32\").reshape((-1, 3))\n",
    "\n",
    "display(Markdown(\"### #verts, #faces are decreased by remove redudant vertices/faces!\"))\n",
    "display(Markdown(\"**verts:** {:d}, **faces:** {:d}\".format(len(verts), len(faces))))"
   ]
  },
  {
   "cell_type": "code",
   "execution_count": null,
   "id": "49d617f9-0141-4a81-ada7-c64bb65b2c81",
   "metadata": {},
   "outputs": [],
   "source": [
    "viewer.mesh_visualization(mesh)"
   ]
  },
  {
   "cell_type": "code",
   "execution_count": null,
   "id": "7d77b973-e3cf-44ae-ba9c-482a996f7e55",
   "metadata": {},
   "outputs": [],
   "source": []
  }
 ],
 "metadata": {
  "kernelspec": {
   "display_name": "Python 3 (ipykernel)",
   "language": "python",
   "name": "python3"
  },
  "language_info": {
   "codemirror_mode": {
    "name": "ipython",
    "version": 3
   },
   "file_extension": ".py",
   "mimetype": "text/x-python",
   "name": "python",
   "nbconvert_exporter": "python",
   "pygments_lexer": "ipython3",
   "version": "3.9.15"
  },
  "vscode": {
   "interpreter": {
    "hash": "c0be583dc5984c9ff8e97a89fe10bd007365ce788ce7f6ecc711d3bbb1125a0a"
   }
  }
 },
 "nbformat": 4,
 "nbformat_minor": 5
}
